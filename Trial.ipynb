{
 "cells": [
  {
   "cell_type": "code",
   "execution_count": 8,
   "metadata": {},
   "outputs": [
    {
     "name": "stdout",
     "output_type": "stream",
     "text": [
      "[1, 3, 5]\n"
     ]
    }
   ],
   "source": [
    "a = [1,2,3,4,5,6,7,8,9]\n",
    "print(a[0:5:2])"
   ]
  },
  {
   "cell_type": "code",
   "execution_count": 7,
   "metadata": {},
   "outputs": [
    {
     "name": "stdout",
     "output_type": "stream",
     "text": [
      "('f', 'o', 'o', 'd')\n"
     ]
    }
   ],
   "source": [
    "a = tuple('food')\n",
    "print(a)\n"
   ]
  },
  {
   "cell_type": "code",
   "execution_count": 2,
   "metadata": {},
   "outputs": [
    {
     "name": "stdout",
     "output_type": "stream",
     "text": [
      "2\n",
      "{1, 2, 3, 4}\n"
     ]
    }
   ],
   "source": [
    "a = [1,2,3,4,3,2,1]\n",
    "print(a.count(1))\n",
    "print(set(a))"
   ]
  },
  {
   "cell_type": "code",
   "execution_count": 11,
   "metadata": {},
   "outputs": [
    {
     "name": "stdout",
     "output_type": "stream",
     "text": [
      "{1, 2, 3, 4, 5}\n",
      "{1, 2, 3, 4, 5}\n"
     ]
    }
   ],
   "source": [
    "a = {1,2,2,3,4,3,2,1}\n",
    "\n",
    "a.add(5)\n",
    "print(a)\n",
    "a.discard(0)\n",
    "print(a)\n"
   ]
  },
  {
   "cell_type": "code",
   "execution_count": 9,
   "metadata": {},
   "outputs": [
    {
     "name": "stdout",
     "output_type": "stream",
     "text": [
      "[1, 2, 3, 4, 5, 6, 7, 8, 9, 1, 2, 3, 4, 5, 6, 7, 8, 9]\n"
     ]
    }
   ],
   "source": [
    "a = [1,2,3,4,5,6,7,8,9]\n",
    "rep_a = a*2\n",
    "print(rep_a)"
   ]
  },
  {
   "cell_type": "code",
   "execution_count": 10,
   "metadata": {},
   "outputs": [
    {
     "name": "stdout",
     "output_type": "stream",
     "text": [
      "['orange', 'banana', 'cherry']\n"
     ]
    }
   ],
   "source": [
    "fruits = [\"apple\", \"banana\", \"cherry\"]\n",
    "fruits[0] = \"orange\"\n",
    "print(fruits)"
   ]
  },
  {
   "cell_type": "code",
   "execution_count": 15,
   "metadata": {},
   "outputs": [
    {
     "name": "stdout",
     "output_type": "stream",
     "text": [
      "{'banana', 1, 2, 3, 'apple', 'cherry'}\n",
      "2 is in the set of numbers\n",
      "set()\n",
      "{'banana', 'cherry', 'apple'}\n"
     ]
    }
   ],
   "source": [
    "fruits = {\"apple\", \"banana\", \"cherry\"}\n",
    "numbers = {1, 2, 3, 2}  \n",
    "\n",
    "union = fruits | numbers\n",
    "print(union)\n",
    "\n",
    "if 2 in numbers:\n",
    "    print(\"2 is in the set of numbers\")\n",
    "    \n",
    "else:print(\"2 is not in the set of numbers\")\n",
    "\n",
    "intersection =fruits & numbers\n",
    "print(intersection)\n",
    "difference = fruits - numbers\n",
    "print(difference)"
   ]
  },
  {
   "cell_type": "code",
   "execution_count": 54,
   "metadata": {},
   "outputs": [
    {
     "name": "stdout",
     "output_type": "stream",
     "text": [
      "True\n",
      "ello wor\n",
      "12\n",
      "Hello world!\n"
     ]
    },
    {
     "data": {
      "text/plain": [
       "['Hello', 'world!']"
      ]
     },
     "execution_count": 54,
     "metadata": {},
     "output_type": "execute_result"
    }
   ],
   "source": [
    "str = \"Hello world!\"\n",
    "a = \"Hello\" in str\n",
    "print(a)\n",
    "s = str[1:9]\n",
    "print(s)\n",
    "print(len(str))\n",
    "print(str[:])\n",
    "str.count(\"l\")\n",
    "str.index(\"w\")\n",
    "str.replace(\"Hello\", \"Hi\")\n",
    "str.casefold()\n",
    "str.center(5)\n",
    "str.strip()\n",
    "str.upper()\n",
    "str.split(\" \")"
   ]
  },
  {
   "cell_type": "code",
   "execution_count": 55,
   "metadata": {},
   "outputs": [
    {
     "name": "stdout",
     "output_type": "stream",
     "text": [
      "Requirement already satisfied: numpy in c:\\users\\lenovo\\appdata\\local\\programs\\python\\python312\\lib\\site-packages (1.26.4)\n"
     ]
    }
   ],
   "source": [
    "! pip install numpy"
   ]
  },
  {
   "cell_type": "code",
   "execution_count": 56,
   "metadata": {},
   "outputs": [
    {
     "name": "stdout",
     "output_type": "stream",
     "text": [
      "Requirement already satisfied: pandas in c:\\users\\lenovo\\appdata\\local\\programs\\python\\python312\\lib\\site-packages (2.2.2)\n",
      "Requirement already satisfied: numpy>=1.26.0 in c:\\users\\lenovo\\appdata\\local\\programs\\python\\python312\\lib\\site-packages (from pandas) (1.26.4)\n",
      "Requirement already satisfied: python-dateutil>=2.8.2 in c:\\users\\lenovo\\appdata\\roaming\\python\\python312\\site-packages (from pandas) (2.9.0.post0)\n",
      "Requirement already satisfied: pytz>=2020.1 in c:\\users\\lenovo\\appdata\\local\\programs\\python\\python312\\lib\\site-packages (from pandas) (2024.1)\n",
      "Requirement already satisfied: tzdata>=2022.7 in c:\\users\\lenovo\\appdata\\local\\programs\\python\\python312\\lib\\site-packages (from pandas) (2024.1)\n",
      "Requirement already satisfied: six>=1.5 in c:\\users\\lenovo\\appdata\\roaming\\python\\python312\\site-packages (from python-dateutil>=2.8.2->pandas) (1.16.0)\n"
     ]
    }
   ],
   "source": [
    "! pip install pandas"
   ]
  },
  {
   "cell_type": "code",
   "execution_count": 57,
   "metadata": {},
   "outputs": [
    {
     "name": "stdout",
     "output_type": "stream",
     "text": [
      "Requirement already satisfied: matplotlib in c:\\users\\lenovo\\appdata\\local\\programs\\python\\python312\\lib\\site-packages (3.9.0)\n",
      "Requirement already satisfied: contourpy>=1.0.1 in c:\\users\\lenovo\\appdata\\local\\programs\\python\\python312\\lib\\site-packages (from matplotlib) (1.2.1)\n",
      "Requirement already satisfied: cycler>=0.10 in c:\\users\\lenovo\\appdata\\local\\programs\\python\\python312\\lib\\site-packages (from matplotlib) (0.12.1)\n",
      "Requirement already satisfied: fonttools>=4.22.0 in c:\\users\\lenovo\\appdata\\local\\programs\\python\\python312\\lib\\site-packages (from matplotlib) (4.52.1)\n",
      "Requirement already satisfied: kiwisolver>=1.3.1 in c:\\users\\lenovo\\appdata\\local\\programs\\python\\python312\\lib\\site-packages (from matplotlib) (1.4.5)\n",
      "Requirement already satisfied: numpy>=1.23 in c:\\users\\lenovo\\appdata\\local\\programs\\python\\python312\\lib\\site-packages (from matplotlib) (1.26.4)\n",
      "Requirement already satisfied: packaging>=20.0 in c:\\users\\lenovo\\appdata\\roaming\\python\\python312\\site-packages (from matplotlib) (24.0)\n",
      "Requirement already satisfied: pillow>=8 in c:\\users\\lenovo\\appdata\\local\\programs\\python\\python312\\lib\\site-packages (from matplotlib) (10.3.0)\n",
      "Requirement already satisfied: pyparsing>=2.3.1 in c:\\users\\lenovo\\appdata\\local\\programs\\python\\python312\\lib\\site-packages (from matplotlib) (3.1.2)\n",
      "Requirement already satisfied: python-dateutil>=2.7 in c:\\users\\lenovo\\appdata\\roaming\\python\\python312\\site-packages (from matplotlib) (2.9.0.post0)\n",
      "Requirement already satisfied: six>=1.5 in c:\\users\\lenovo\\appdata\\roaming\\python\\python312\\site-packages (from python-dateutil>=2.7->matplotlib) (1.16.0)\n"
     ]
    }
   ],
   "source": [
    "! pip install matplotlib"
   ]
  },
  {
   "cell_type": "code",
   "execution_count": 58,
   "metadata": {},
   "outputs": [
    {
     "name": "stdout",
     "output_type": "stream",
     "text": [
      "Requirement already satisfied: seaborn in c:\\users\\lenovo\\appdata\\local\\programs\\python\\python312\\lib\\site-packages (0.13.2)\n",
      "Requirement already satisfied: numpy!=1.24.0,>=1.20 in c:\\users\\lenovo\\appdata\\local\\programs\\python\\python312\\lib\\site-packages (from seaborn) (1.26.4)\n",
      "Requirement already satisfied: pandas>=1.2 in c:\\users\\lenovo\\appdata\\local\\programs\\python\\python312\\lib\\site-packages (from seaborn) (2.2.2)\n",
      "Requirement already satisfied: matplotlib!=3.6.1,>=3.4 in c:\\users\\lenovo\\appdata\\local\\programs\\python\\python312\\lib\\site-packages (from seaborn) (3.9.0)\n",
      "Requirement already satisfied: contourpy>=1.0.1 in c:\\users\\lenovo\\appdata\\local\\programs\\python\\python312\\lib\\site-packages (from matplotlib!=3.6.1,>=3.4->seaborn) (1.2.1)\n",
      "Requirement already satisfied: cycler>=0.10 in c:\\users\\lenovo\\appdata\\local\\programs\\python\\python312\\lib\\site-packages (from matplotlib!=3.6.1,>=3.4->seaborn) (0.12.1)\n",
      "Requirement already satisfied: fonttools>=4.22.0 in c:\\users\\lenovo\\appdata\\local\\programs\\python\\python312\\lib\\site-packages (from matplotlib!=3.6.1,>=3.4->seaborn) (4.52.1)\n",
      "Requirement already satisfied: kiwisolver>=1.3.1 in c:\\users\\lenovo\\appdata\\local\\programs\\python\\python312\\lib\\site-packages (from matplotlib!=3.6.1,>=3.4->seaborn) (1.4.5)\n",
      "Requirement already satisfied: packaging>=20.0 in c:\\users\\lenovo\\appdata\\roaming\\python\\python312\\site-packages (from matplotlib!=3.6.1,>=3.4->seaborn) (24.0)\n",
      "Requirement already satisfied: pillow>=8 in c:\\users\\lenovo\\appdata\\local\\programs\\python\\python312\\lib\\site-packages (from matplotlib!=3.6.1,>=3.4->seaborn) (10.3.0)\n",
      "Requirement already satisfied: pyparsing>=2.3.1 in c:\\users\\lenovo\\appdata\\local\\programs\\python\\python312\\lib\\site-packages (from matplotlib!=3.6.1,>=3.4->seaborn) (3.1.2)\n",
      "Requirement already satisfied: python-dateutil>=2.7 in c:\\users\\lenovo\\appdata\\roaming\\python\\python312\\site-packages (from matplotlib!=3.6.1,>=3.4->seaborn) (2.9.0.post0)\n",
      "Requirement already satisfied: pytz>=2020.1 in c:\\users\\lenovo\\appdata\\local\\programs\\python\\python312\\lib\\site-packages (from pandas>=1.2->seaborn) (2024.1)\n",
      "Requirement already satisfied: tzdata>=2022.7 in c:\\users\\lenovo\\appdata\\local\\programs\\python\\python312\\lib\\site-packages (from pandas>=1.2->seaborn) (2024.1)\n",
      "Requirement already satisfied: six>=1.5 in c:\\users\\lenovo\\appdata\\roaming\\python\\python312\\site-packages (from python-dateutil>=2.7->matplotlib!=3.6.1,>=3.4->seaborn) (1.16.0)\n"
     ]
    }
   ],
   "source": [
    "! pip install seaborn"
   ]
  },
  {
   "cell_type": "code",
   "execution_count": 59,
   "metadata": {},
   "outputs": [
    {
     "name": "stdout",
     "output_type": "stream",
     "text": [
      "Requirement already satisfied: scikit-learn in c:\\users\\lenovo\\appdata\\local\\programs\\python\\python312\\lib\\site-packages (1.5.0)\n",
      "Requirement already satisfied: numpy>=1.19.5 in c:\\users\\lenovo\\appdata\\local\\programs\\python\\python312\\lib\\site-packages (from scikit-learn) (1.26.4)\n",
      "Requirement already satisfied: scipy>=1.6.0 in c:\\users\\lenovo\\appdata\\local\\programs\\python\\python312\\lib\\site-packages (from scikit-learn) (1.13.1)\n",
      "Requirement already satisfied: joblib>=1.2.0 in c:\\users\\lenovo\\appdata\\local\\programs\\python\\python312\\lib\\site-packages (from scikit-learn) (1.4.2)\n",
      "Requirement already satisfied: threadpoolctl>=3.1.0 in c:\\users\\lenovo\\appdata\\local\\programs\\python\\python312\\lib\\site-packages (from scikit-learn) (3.5.0)\n"
     ]
    }
   ],
   "source": [
    "! pip install scikit-learn"
   ]
  },
  {
   "cell_type": "code",
   "execution_count": 30,
   "metadata": {},
   "outputs": [
    {
     "name": "stdout",
     "output_type": "stream",
     "text": [
      "0\n",
      "2\n",
      "4\n",
      "6\n",
      "8\n",
      "10\n",
      "12\n",
      "14\n",
      "16\n",
      "18\n",
      "20\n",
      "22\n",
      "24\n",
      "26\n",
      "28\n",
      "30\n",
      "32\n",
      "34\n",
      "36\n",
      "38\n",
      "40\n",
      "42\n",
      "44\n",
      "46\n",
      "48\n",
      "50\n",
      "52\n",
      "54\n",
      "56\n",
      "58\n",
      "60\n",
      "62\n",
      "64\n",
      "66\n",
      "68\n",
      "70\n",
      "72\n",
      "74\n",
      "76\n",
      "78\n",
      "80\n",
      "82\n",
      "84\n",
      "86\n",
      "88\n",
      "90\n",
      "92\n",
      "94\n",
      "96\n",
      "98\n"
     ]
    }
   ],
   "source": [
    "for i in range(0, 100, 2):\n",
    "        print(i)"
   ]
  },
  {
   "cell_type": "code",
   "execution_count": 9,
   "metadata": {},
   "outputs": [
    {
     "name": "stdout",
     "output_type": "stream",
     "text": [
      "['apple', 'orange', 'mango']\n",
      "apple\n",
      "orange\n",
      "mango\n"
     ]
    }
   ],
   "source": [
    "fruits = ['apple', 'orange', 'mango', ]\n",
    "\n",
    "print(fruits)\n",
    "\n",
    "for i in fruits:\n",
    "    print(i)"
   ]
  },
  {
   "cell_type": "code",
   "execution_count": 10,
   "metadata": {},
   "outputs": [
    {
     "name": "stdout",
     "output_type": "stream",
     "text": [
      "f\n",
      "r\n",
      "u\n",
      "i\n",
      "t\n",
      "s\n"
     ]
    }
   ],
   "source": [
    "a = \"fruits\"\n",
    "for j in a:\n",
    "    print(j)"
   ]
  },
  {
   "cell_type": "code",
   "execution_count": 12,
   "metadata": {},
   "outputs": [
    {
     "name": "stdout",
     "output_type": "stream",
     "text": [
      "0\n",
      "1\n",
      "2\n",
      "3\n",
      "4\n",
      "5\n",
      "6\n",
      "7\n",
      "8\n",
      "9\n",
      "10\n",
      "11\n",
      "12\n",
      "13\n",
      "14\n",
      "15\n",
      "16\n",
      "17\n",
      "18\n",
      "19\n",
      "20\n",
      "21\n",
      "22\n",
      "23\n",
      "24\n",
      "25\n",
      "26\n",
      "27\n",
      "28\n",
      "29\n",
      "30\n",
      "31\n",
      "32\n",
      "33\n",
      "34\n",
      "35\n",
      "36\n",
      "37\n",
      "38\n",
      "39\n",
      "40\n",
      "41\n",
      "42\n",
      "43\n",
      "44\n",
      "45\n",
      "46\n",
      "47\n",
      "48\n",
      "49\n",
      "50\n",
      "51\n",
      "52\n",
      "53\n",
      "54\n",
      "55\n",
      "56\n",
      "57\n",
      "58\n",
      "59\n",
      "60\n",
      "61\n",
      "62\n",
      "63\n",
      "64\n",
      "65\n",
      "66\n",
      "67\n",
      "68\n",
      "69\n",
      "70\n",
      "71\n",
      "72\n",
      "73\n",
      "74\n",
      "75\n",
      "76\n",
      "77\n",
      "78\n",
      "79\n",
      "80\n",
      "81\n",
      "82\n",
      "83\n",
      "84\n",
      "85\n",
      "86\n",
      "87\n",
      "88\n",
      "89\n",
      "90\n",
      "91\n",
      "92\n",
      "93\n",
      "94\n",
      "95\n",
      "96\n",
      "97\n",
      "98\n",
      "99\n"
     ]
    }
   ],
   "source": [
    "for i in range(0, 100):\n",
    "    print(i)"
   ]
  },
  {
   "cell_type": "code",
   "execution_count": 15,
   "metadata": {},
   "outputs": [
    {
     "name": "stdout",
     "output_type": "stream",
     "text": [
      "10\n",
      "9\n",
      "8\n",
      "7\n",
      "6\n",
      "5\n",
      "4\n",
      "3\n",
      "2\n"
     ]
    }
   ],
   "source": [
    "for j in range(10,1,-1):\n",
    "    print(j)"
   ]
  },
  {
   "cell_type": "code",
   "execution_count": 18,
   "metadata": {},
   "outputs": [
    {
     "name": "stdout",
     "output_type": "stream",
     "text": [
      "0\n",
      "1\n",
      "2\n",
      "3\n",
      "4\n",
      "5\n"
     ]
    }
   ],
   "source": [
    "i = 0\n",
    "while i < 6:\n",
    "    print(i)\n",
    "    i+=1"
   ]
  },
  {
   "cell_type": "code",
   "execution_count": 19,
   "metadata": {},
   "outputs": [
    {
     "name": "stdout",
     "output_type": "stream",
     "text": [
      "0\n",
      "1\n",
      "2\n",
      "3\n",
      "4\n",
      "5\n",
      "6\n",
      "7\n",
      "8\n",
      "9\n"
     ]
    }
   ],
   "source": [
    "for j in range(0,100):\n",
    "    if j < 10:\n",
    "        print(j)"
   ]
  },
  {
   "cell_type": "code",
   "execution_count": 20,
   "metadata": {},
   "outputs": [
    {
     "name": "stdout",
     "output_type": "stream",
     "text": [
      "Hello world, my name is Aaron\n"
     ]
    }
   ],
   "source": [
    "name = \"Aaron\"\n",
    "my_name = f\"Hello world, my name is {name}\"\n",
    "print(my_name)"
   ]
  },
  {
   "cell_type": "code",
   "execution_count": 21,
   "metadata": {},
   "outputs": [
    {
     "name": "stdout",
     "output_type": "stream",
     "text": [
      "i: 0, j: 1\n",
      "i: 1, j: 1\n",
      "i: 2, j: 1\n",
      "i: 3, j: 1\n"
     ]
    }
   ],
   "source": [
    "for i in range(0,4):\n",
    "    for j in range(1,2):\n",
    "        print(f\"i: {i}, j: {j}\")"
   ]
  },
  {
   "cell_type": "code",
   "execution_count": 27,
   "metadata": {},
   "outputs": [
    {
     "name": "stdout",
     "output_type": "stream",
     "text": [
      "0\n",
      "2\n",
      "4\n",
      "6\n",
      "8\n",
      "10\n",
      "12\n",
      "14\n",
      "16\n",
      "18\n",
      "20\n",
      "22\n",
      "24\n",
      "26\n",
      "28\n",
      "30\n",
      "32\n",
      "34\n",
      "36\n",
      "38\n",
      "40\n",
      "42\n",
      "44\n",
      "46\n",
      "48\n",
      "50\n",
      "52\n",
      "54\n",
      "56\n",
      "58\n",
      "60\n",
      "62\n",
      "64\n",
      "66\n",
      "68\n",
      "70\n",
      "72\n",
      "74\n",
      "76\n",
      "78\n",
      "80\n",
      "82\n",
      "84\n",
      "86\n",
      "88\n",
      "90\n",
      "92\n",
      "94\n",
      "96\n",
      "98\n"
     ]
    }
   ],
   "source": [
    "for i in range(0,100):\n",
    "    if i % 2 == 0:\n",
    "        print(i)"
   ]
  },
  {
   "cell_type": "markdown",
   "metadata": {},
   "source": [
    "# FUNCTIONS"
   ]
  },
  {
   "cell_type": "code",
   "execution_count": 1,
   "metadata": {},
   "outputs": [
    {
     "name": "stdout",
     "output_type": "stream",
     "text": [
      "True\n",
      "False\n"
     ]
    }
   ],
   "source": [
    "def test(a = 3,b = 3):\n",
    "    return a == b\n",
    "message = test()\n",
    "print(message)\n",
    "m = test(33,4)\n",
    "print(m)"
   ]
  },
  {
   "cell_type": "markdown",
   "metadata": {},
   "source": [
    "# CLASSES"
   ]
  },
  {
   "cell_type": "code",
   "execution_count": 22,
   "metadata": {},
   "outputs": [
    {
     "name": "stdout",
     "output_type": "stream",
     "text": [
      "My name is Rodger\n",
      "My name is Tommy\n"
     ]
    }
   ],
   "source": [
    "class Dog:\n",
    "    \n",
    "    attr1 = \"mammal\"\n",
    "    \n",
    "\n",
    "    def __init__(self, name):\n",
    "        self.name = name\n",
    "        \n",
    "    def speak(self):\n",
    "        print(\"My name is {}\".format(self.name))\n",
    "            \n",
    "            \n",
    "Rodger = Dog(\"Rodger\")\n",
    "Tommy = Dog(\"Tommy\")\n",
    "\n",
    "Rodger.speak()\n",
    "Tommy.speak()"
   ]
  },
  {
   "cell_type": "code",
   "execution_count": 4,
   "metadata": {},
   "outputs": [
    {
     "name": "stdout",
     "output_type": "stream",
     "text": [
      " Deposited 500000, new balance is 1500000\n",
      "Withdrawn 700000, new balance is 800000\n",
      "Balance: 800000\n"
     ]
    }
   ],
   "source": [
    "# Encapsulation\n",
    "\n",
    "class BankAccount:\n",
    "    def __init__(self, account_holder, balance):\n",
    "        self.account_holder = account_holder\n",
    "        self.__balance = balance\n",
    "        \n",
    "    def deposit(self, amount):\n",
    "        if amount > 0:\n",
    "            self.__balance += amount\n",
    "            \n",
    "            print( f\" Deposited {amount}, new balance is {self.__balance}\")  \n",
    "            \n",
    "        else:\n",
    "            print(\"Invalid deposit amount\")\n",
    "    def withdraw(self, amount):\n",
    "        if amount > 0 and amount <= self.__balance:\n",
    "            self.__balance -= amount\n",
    "            \n",
    "            print( f\"Withdrawn {amount}, new balance is {self.__balance}\")\n",
    "            \n",
    "        else:\n",
    "            print(\"Invalid withdrawal amount or insufficient funds\")\n",
    "            \n",
    "    def get_balance(self):\n",
    "        return self.__balance\n",
    "    \n",
    "    #creating an instance\n",
    "account = BankAccount(\"Aaron\", 1000000)  \n",
    "\n",
    "    #Accessing public methods\n",
    "    \n",
    "account.deposit(500000)     \n",
    "account.withdraw(700000) \n",
    "\n",
    "print(f\"Balance: {account.get_balance()}\")\n"
   ]
  },
  {
   "cell_type": "markdown",
   "metadata": {},
   "source": [
    "# SERIES\n",
    "Represents a one-dimensional labeled array capable of holding any data type (integers, strings, floating-point numbers, Python objects, etc.).\n",
    "Think of it as a single column from a spreadsheet.\n",
    "Creation:\n",
    "From a list, NumPy array, or dictionary:"
   ]
  },
  {
   "cell_type": "code",
   "execution_count": 1,
   "metadata": {},
   "outputs": [
    {
     "name": "stdout",
     "output_type": "stream",
     "text": [
      "0    1\n",
      "1    2\n",
      "2    3\n",
      "3    4\n",
      "4    5\n",
      "dtype: int64\n"
     ]
    }
   ],
   "source": [
    "import pandas as pd\n",
    "\n",
    "data = [1, 2, 3, 4, 5]\n",
    "my_series = pd.Series(data)\n",
    "print(my_series)"
   ]
  },
  {
   "cell_type": "code",
   "execution_count": 6,
   "metadata": {},
   "outputs": [
    {
     "name": "stdout",
     "output_type": "stream",
     "text": [
      "a    1\n",
      "b    2\n",
      "c    3\n",
      "d    4\n",
      "e    5\n",
      "dtype: int64\n",
      "1\n",
      "a     2\n",
      "b     4\n",
      "c     6\n",
      "d     8\n",
      "e    10\n",
      "dtype: int64\n",
      "count    5.000000\n",
      "mean     3.000000\n",
      "std      1.581139\n",
      "min      1.000000\n",
      "25%      2.000000\n",
      "50%      3.000000\n",
      "75%      4.000000\n",
      "max      5.000000\n",
      "dtype: float64\n",
      "3.0\n",
      "5\n",
      "1.5811388300841898\n",
      "c    3\n",
      "d    4\n",
      "e    5\n",
      "dtype: int64\n",
      "2\n"
     ]
    }
   ],
   "source": [
    "import pandas as pd\n",
    "\n",
    "index_labels = ['a', 'b', 'c', 'd', 'e']\n",
    "data = [1, 2, 3, 4, 5]\n",
    "\n",
    "my_series = pd.Series(data, index=index_labels)\n",
    "print(my_series)\n",
    "\n",
    "# accessing elements by index\n",
    "index_labels = my_series['a']\n",
    "print(index_labels)\n",
    "\n",
    "# mathematical operations\n",
    "new_series = my_series * 2\n",
    "print(new_series)\n",
    "\n",
    "# descriptive statistics\n",
    "stats = my_series.describe()\n",
    "print(stats)\n",
    "ave = my_series.mean()\n",
    "print(ave)\n",
    "max = my_series.max()\n",
    "print(max)\n",
    "std = my_series.std()\n",
    "print(std)\n",
    "\n",
    "# filtering\n",
    "filtered = my_series[my_series > 2]\n",
    "print(filtered)\n",
    "\n",
    "# access by labels\n",
    "loc = my_series.loc ['b']\n",
    "print(loc)"
   ]
  },
  {
   "cell_type": "markdown",
   "metadata": {},
   "source": [
    "# DATA FRAMES\n",
    "Two-dimensional, size-mutable, tabular data structure with labeled rows (index) and columns.\n",
    "Essentially a collection of Series objects.\n"
   ]
  },
  {
   "cell_type": "code",
   "execution_count": 13,
   "metadata": {},
   "outputs": [
    {
     "name": "stdout",
     "output_type": "stream",
     "text": [
      "   col1 col2\n",
      "0     1    a\n",
      "1     2    b\n",
      "2     3    c\n"
     ]
    }
   ],
   "source": [
    "# creation from dictionary\n",
    "\n",
    "import pandas as pd\n",
    "data = {'col1': [1, 2, 3], 'col2': ['a', 'b', 'c']}\n",
    "df = pd.DataFrame(data)\n",
    "print(df)"
   ]
  },
  {
   "cell_type": "code",
   "execution_count": 5,
   "metadata": {},
   "outputs": [
    {
     "name": "stdout",
     "output_type": "stream",
     "text": [
      "      Name  Age\n",
      "0    Aaron   34\n",
      "1    Leman   45\n",
      "2  Brendan   18\n"
     ]
    }
   ],
   "source": [
    "import pandas as pd\n",
    "data = { 'Name': ['Aaron', 'Leman', 'Brendan'], 'Age': [34,45,18]}\n",
    "df = pd.DataFrame(data)\n",
    "print(df)"
   ]
  },
  {
   "cell_type": "code",
   "execution_count": 1,
   "metadata": {},
   "outputs": [
    {
     "name": "stdout",
     "output_type": "stream",
     "text": [
      "    Name  Age\n",
      "0    tom   10\n",
      "1   nick   15\n",
      "2  aaron   14\n",
      "0    10\n",
      "1    15\n",
      "2    14\n",
      "Name: Age, dtype: int64\n",
      "Name    nick\n",
      "Age       15\n",
      "Name: 1, dtype: object\n",
      "nick\n"
     ]
    }
   ],
   "source": [
    "# From a list of lists or NumPy array:\n",
    "\n",
    "import pandas as pd\n",
    "data = [['tom', 10], ['nick', 15], ['aaron', 14]]\n",
    "df = pd.DataFrame(data, columns=['Name', 'Age'])\n",
    "print(df)\n",
    "\n",
    "# accessing elements by column label\n",
    "age = df['Age']\n",
    "print(age)\n",
    "\n",
    "# accessing elements by row labels\n",
    "row = df.loc[1]\n",
    "print(row)\n",
    "\n",
    "# accessing elements by By integer-location based indexing for both rows and columns\n",
    "row = df.iloc[1, 0]\n",
    "print(row)"
   ]
  },
  {
   "cell_type": "code",
   "execution_count": 8,
   "metadata": {},
   "outputs": [
    {
     "name": "stdout",
     "output_type": "stream",
     "text": [
      "    Name  Age\n",
      "0  Aaron   24\n",
      "1    Bob   23\n",
      "2  Frank   19\n",
      "0    25\n",
      "1    24\n",
      "2    20\n",
      "Name: Age, dtype: int64\n"
     ]
    }
   ],
   "source": [
    "import pandas as pd\n",
    "data = [['Aaron',24 ], ['Bob',23], ['Frank',19]]\n",
    "df = pd.DataFrame(data, columns=['Name', 'Age'])\n",
    "print(df)\n",
    "age = df['Age']+1\n",
    "print(age)"
   ]
  },
  {
   "cell_type": "code",
   "execution_count": 26,
   "metadata": {},
   "outputs": [
    {
     "name": "stdout",
     "output_type": "stream",
     "text": [
      "    Name  Age\n",
      "0    tom   10\n",
      "1   nick   15\n",
      "2  aaron   14\n",
      "    Name  Age\n",
      "0    tom   11\n",
      "1   nick   16\n",
      "2  aaron   15\n",
      "    Name  Age\n",
      "1   nick   16\n",
      "2  aaron   15\n",
      "  Name  Age\n",
      "0  tom   11\n",
      "    Name  Age Country\n",
      "0    tom   11     USA\n",
      "1   nick   16     USA\n",
      "2  aaron   15     USA\n",
      "    Name  Age\n",
      "0    tom   11\n",
      "1   nick   16\n",
      "2  aaron   15\n"
     ]
    }
   ],
   "source": [
    "data = [['tom', 10], ['nick', 15], ['aaron', 14]]\n",
    "df = pd.DataFrame(data, columns=['Name', 'Age'])\n",
    "print(df)\n",
    "# operations\n",
    "df['Age'] = df['Age'] + 1\n",
    "print(df)\n",
    "\n",
    "# filtering and selecting\n",
    "df_filtered = df[df['Age'] > 13]\n",
    "print(df_filtered)\n",
    "\n",
    "# using loc\n",
    "df_filtered = df.loc[df['Age'] < 13]\n",
    "print(df_filtered)\n",
    "# addition and removal of columns\n",
    "df['Country'] = 'USA'\n",
    "print(df)\n",
    "df.drop('Country', axis=1, inplace=True)\n",
    "print(df)\n",
    "\n",
    "# merging,joining and combining dataFrames"
   ]
  },
  {
   "cell_type": "markdown",
   "metadata": {},
   "source": [
    "# INDEX OBJECTS\n",
    "In Python, index objects are fundamental for working with data structures like lists, NumPy arrays, and DataFrames (pandas library). They act like labels or pointers that efficiently access and manage elements within these structures. Here's a detailed explanation of index objects:"
   ]
  },
  {
   "cell_type": "code",
   "execution_count": 2,
   "metadata": {},
   "outputs": [
    {
     "name": "stdout",
     "output_type": "stream",
     "text": [
      "apple\n",
      "cherry\n"
     ]
    }
   ],
   "source": [
    "# integer indexing\n",
    "\n",
    "my_list = [\"apple\", \"banana\", \"cherry\"]\n",
    "first_fruit = my_list[0]  \n",
    "last_fruit = my_list[2]  \n",
    "print(first_fruit)\n",
    "print(last_fruit)"
   ]
  },
  {
   "cell_type": "code",
   "execution_count": 2,
   "metadata": {},
   "outputs": [
    {
     "name": "stdout",
     "output_type": "stream",
     "text": [
      "banana\n",
      "cherry\n"
     ]
    }
   ],
   "source": [
    "# negative indexing\n",
    "\n",
    "my_list = [\"apple\", \"banana\", \"cherry\"]\n",
    "first_fruit = my_list[-2]  \n",
    "last_fruit = my_list[-1]  \n",
    "print(first_fruit)\n",
    "print(last_fruit)"
   ]
  },
  {
   "cell_type": "code",
   "execution_count": 4,
   "metadata": {},
   "outputs": [
    {
     "name": "stdout",
     "output_type": "stream",
     "text": [
      "['cherry', 'orange', 'kiwi']\n"
     ]
    }
   ],
   "source": [
    "# slicing\n",
    "\n",
    "my_list = [\"apple\", \"banana\", \"cherry\", \"orange\", \"kiwi\", \"melon\", \"mango\"]\n",
    "fruits = my_list[2:5]  \n",
    "print(fruits)"
   ]
  },
  {
   "cell_type": "code",
   "execution_count": 18,
   "metadata": {},
   "outputs": [
    {
     "name": "stdout",
     "output_type": "stream",
     "text": [
      "['banana', 'orange', 'mango']\n"
     ]
    }
   ],
   "source": [
    "# boolean indexing\n",
    "# This powerful technique uses a Boolean list of the same length as the original data structure. True values in the Boolean list select the corresponding elements from the original structure.\n",
    "\n",
    "my_list = [\"apple\", \"banana\", \"cherry\", \"orange\", \"mango\"]\n",
    "sweet_fruits = [\"no\" , \"yes\", \"no\", \"yes\", \"yes\"]\n",
    "sweet_list = [fruit for fruit, is_sweet in zip(my_list, sweet_fruits) if is_sweet == \"yes\"]\n",
    "print(sweet_list)\n",
    "\n",
    "\n"
   ]
  },
  {
   "cell_type": "markdown",
   "metadata": {},
   "source": [
    "# ADVANCED INDEXING IN PANDAS"
   ]
  },
  {
   "cell_type": "code",
   "execution_count": 1,
   "metadata": {},
   "outputs": [
    {
     "name": "stdout",
     "output_type": "stream",
     "text": [
      "      col1 col2\n",
      "row1     1    a\n",
      "row2     2    b\n",
      "row3     3    c\n"
     ]
    }
   ],
   "source": [
    "# creating an index in pandas\n",
    "\n",
    "import pandas as pd\n",
    "\n",
    "data = {'col1': [1, 2, 3], 'col2': ['a', 'b', 'c']}\n",
    "df = pd.DataFrame(data)\n",
    "df.index = ['row1', 'row2', 'row3']\n",
    "print(df)"
   ]
  },
  {
   "cell_type": "code",
   "execution_count": 2,
   "metadata": {},
   "outputs": [
    {
     "name": "stdout",
     "output_type": "stream",
     "text": [
      "apple\n"
     ]
    }
   ],
   "source": [
    "# label-based indexing\n",
    "\n",
    "import pandas as pd\n",
    "fruits = pd.Series([\"apple\", \"banana\", \"cherry\"], index=[\"A\", \"B\", \"C\"])\n",
    "first_fruit = fruits[\"A\"]\n",
    "print(first_fruit)\n",
    "\n"
   ]
  },
  {
   "cell_type": "code",
   "execution_count": 1,
   "metadata": {},
   "outputs": [
    {
     "name": "stdout",
     "output_type": "stream",
     "text": [
      "banana\n"
     ]
    }
   ],
   "source": [
    "# Hierarchical Indexing (MultiIndex)\n",
    "\n",
    "import pandas as pd\n",
    "fruits = pd.Series([\"apple\", \"banana\", \"cherry\"], index=[[\"A\", \"A\", \"C\"], [1, 2, 3]])\n",
    "first_fruit = fruits[\"A\", 2]\n",
    "print(first_fruit)"
   ]
  },
  {
   "cell_type": "markdown",
   "metadata": {},
   "source": [
    "# TEXT FORMATS\n"
   ]
  },
  {
   "cell_type": "code",
   "execution_count": null,
   "metadata": {},
   "outputs": [],
   "source": [
    "# Text Formats (CSV and JSON):\n",
    "\n",
    "import pandas as pd\n",
    "\n",
    "# Read CSV data into a DataFrame\n",
    "data = pd.read_csv(\"data.csv\")  # Replace \"data.csv\" with your actual file path\n",
    "print(data)  # View the DataFrame\n",
    "\n",
    "# Write DataFrame back to CSV\n",
    "data.to_csv(\"output.csv\", index=False)  # Save without row indices"
   ]
  },
  {
   "cell_type": "code",
   "execution_count": null,
   "metadata": {},
   "outputs": [],
   "source": [
    "# Reading and Writing  JSON ( Javascript object notation):\n",
    "import json\n",
    "\n",
    "# Read JSON data from a file\n",
    "with open(\"data.json\", \"r\") as f:\n",
    "    data = json.load(f)\n",
    "print(data)  # View the loaded data structure\n",
    "\n",
    "# Write data to a JSON file\n",
    "with open(\"output.json\", \"w\") as f:\n",
    "    json.dump(data, f, indent=4)  "
   ]
  },
  {
   "cell_type": "markdown",
   "metadata": {},
   "source": [
    "# WEB API INTERACTION"
   ]
  },
  {
   "cell_type": "code",
   "execution_count": 1,
   "metadata": {},
   "outputs": [
    {
     "name": "stdout",
     "output_type": "stream",
     "text": [
      "Collecting requests\n",
      "  Downloading requests-2.32.3-py3-none-any.whl.metadata (4.6 kB)\n",
      "Collecting charset-normalizer<4,>=2 (from requests)\n",
      "  Downloading charset_normalizer-3.3.2-cp312-cp312-win_amd64.whl.metadata (34 kB)\n",
      "Collecting idna<4,>=2.5 (from requests)\n",
      "  Downloading idna-3.7-py3-none-any.whl.metadata (9.9 kB)\n",
      "Collecting urllib3<3,>=1.21.1 (from requests)\n",
      "  Downloading urllib3-2.2.2-py3-none-any.whl.metadata (6.4 kB)\n",
      "Collecting certifi>=2017.4.17 (from requests)\n",
      "  Downloading certifi-2024.6.2-py3-none-any.whl.metadata (2.2 kB)\n",
      "Downloading requests-2.32.3-py3-none-any.whl (64 kB)\n",
      "   ---------------------------------------- 0.0/64.9 kB ? eta -:--:--\n",
      "   ------------------------- -------------- 41.0/64.9 kB 653.6 kB/s eta 0:00:01\n",
      "   ---------------------------------------- 64.9/64.9 kB 588.0 kB/s eta 0:00:00\n",
      "Downloading certifi-2024.6.2-py3-none-any.whl (164 kB)\n",
      "   ---------------------------------------- 0.0/164.4 kB ? eta -:--:--\n",
      "   ---------------------- ----------------- 92.2/164.4 kB ? eta -:--:--\n",
      "   ---------------------------------------  163.8/164.4 kB 3.3 MB/s eta 0:00:01\n",
      "   ---------------------------------------- 164.4/164.4 kB 1.4 MB/s eta 0:00:00\n",
      "Downloading charset_normalizer-3.3.2-cp312-cp312-win_amd64.whl (100 kB)\n",
      "   ---------------------------------------- 0.0/100.4 kB ? eta -:--:--\n",
      "   ---------------------------------------- 100.4/100.4 kB 2.9 MB/s eta 0:00:00\n",
      "Downloading idna-3.7-py3-none-any.whl (66 kB)\n",
      "   ---------------------------------------- 0.0/66.8 kB ? eta -:--:--\n",
      "   ---------------------------------------- 66.8/66.8 kB 1.8 MB/s eta 0:00:00\n",
      "Downloading urllib3-2.2.2-py3-none-any.whl (121 kB)\n",
      "   ---------------------------------------- 0.0/121.4 kB ? eta -:--:--\n",
      "   ---------------------------------------- 121.4/121.4 kB 2.4 MB/s eta 0:00:00\n",
      "Installing collected packages: urllib3, idna, charset-normalizer, certifi, requests\n",
      "Successfully installed certifi-2024.6.2 charset-normalizer-3.3.2 idna-3.7 requests-2.32.3 urllib3-2.2.2\n"
     ]
    },
    {
     "name": "stderr",
     "output_type": "stream",
     "text": [
      "\n",
      "[notice] A new release of pip is available: 24.0 -> 24.1\n",
      "[notice] To update, run: python.exe -m pip install --upgrade pip\n"
     ]
    }
   ],
   "source": [
    "! pip install requests"
   ]
  },
  {
   "cell_type": "code",
   "execution_count": null,
   "metadata": {},
   "outputs": [],
   "source": [
    "import requests\n",
    "\n",
    "# Replace with the API URL and any required parameters\n",
    "url = \"https://api.example.com/data\"\n",
    "params = {\"key\": \"your_api_key\"}  # Example parameters\n",
    "\n",
    "# Send a GET request and get the response\n",
    "response = requests.get(url, params=params)\n",
    "\n",
    "if response.status_code == 200:\n",
    "    # Parse JSON response (assuming the API returns JSON)\n",
    "    data = response.json()\n",
    "    print(data)  # View the data returned by the API\n",
    "else:\n",
    "    print(f\"Error: API request failed with status code {response.status_code}\")"
   ]
  },
  {
   "cell_type": "markdown",
   "metadata": {},
   "source": [
    "# DATA WRANGLING"
   ]
  },
  {
   "cell_type": "code",
   "execution_count": 1,
   "metadata": {},
   "outputs": [
    {
     "name": "stdout",
     "output_type": "stream",
     "text": [
      "               col1 col2\n",
      "level1 level2           \n",
      "A      1          1    a\n",
      "       2          2    a\n",
      "B      1          3    b\n",
      "       2          4    b\n"
     ]
    }
   ],
   "source": [
    "# Hierarchical indexing\n",
    "\n",
    "#Concept: Allows assigning multiple levels to the index of a DataFrame or Series, enabling efficient navigation and manipulation of high-dimensional data.\n",
    "#Creation:\n",
    "# List of lists for index:\n",
    "\n",
    "import pandas as pd\n",
    "\n",
    "data = {'col1': [1, 2, 3, 4], 'col2': ['a', 'a', 'b', 'b']}\n",
    "index = pd.MultiIndex.from_tuples([('A', 1), ('A', 2), ('B', 1), ('B', 2)],\n",
    "                        names=('level1', 'level2'))\n",
    "df = pd.DataFrame(data, index=index)\n",
    "print(df)"
   ]
  },
  {
   "cell_type": "code",
   "execution_count": 2,
   "metadata": {},
   "outputs": [
    {
     "name": "stdout",
     "output_type": "stream",
     "text": [
      "                   temperature\n",
      "city        state             \n",
      "New York    NY              20\n",
      "Los Angeles CA              25\n",
      "Chicago     IL              18\n",
      "Miami       FL              30\n"
     ]
    }
   ],
   "source": [
    "# Existing column for index levels:\n",
    "\n",
    "df_orig = pd.DataFrame({'city': ['New York', 'Los Angeles', 'Chicago', 'Miami'],\n",
    "                    'state': ['NY', 'CA', 'IL', 'FL'],\n",
    "                    'temperature': [20, 25, 18, 30]})\n",
    "df = df_orig.set_index(['city', 'state'])\n",
    "print(df)"
   ]
  },
  {
   "cell_type": "code",
   "execution_count": 6,
   "metadata": {},
   "outputs": [
    {
     "name": "stdout",
     "output_type": "stream",
     "text": [
      "     A    B    C    D\n",
      "0  1.0    a  NaN  NaN\n",
      "1  2.0    b  NaN  NaN\n",
      "2  3.0    a  NaN  NaN\n",
      "3  NaN  NaN  4.0    x\n",
      "4  NaN  NaN  5.0    y\n",
      "5  NaN  NaN  6.0    x\n",
      "   A  B  C  D\n",
      "0  1  a  4  x\n",
      "1  2  b  5  y\n",
      "2  3  a  6  x\n"
     ]
    }
   ],
   "source": [
    "# Combining and Merging Datasets\n",
    "\n",
    "# Concatenation (pd.concat): Combines DataFrames end-to-end (vertically) or side-by-side (horizontally).\n",
    "# axis=0 (default): Vertical concatenation.\n",
    "# axis=1: Horizontal concatenation.\n",
    "# join='inner': Default, keeps only rows with matching keys.\n",
    "# join='outer': Includes all rows from both DataFrames.\n",
    "# Merging (pd.merge): Combines DataFrames based on one or more columns.\n",
    "# on: Column(s) used for merging (must be present in both DataFrames).\n",
    "# how: Type of merge (inner, outer, left, right).\n",
    "\n",
    "\n",
    "df1 = pd.DataFrame({'A': [1, 2, 3], 'B': ['a', 'b', 'a']})\n",
    "df2 = pd.DataFrame({'C': [4, 5, 6], 'D': ['x', 'y', 'x']})\n",
    "\n",
    "# Vertical concatenation\n",
    "df_concat_v = pd.concat([df1, df2], ignore_index=True)  # Reset index for clarity\n",
    "print(df_concat_v)\n",
    "\n",
    "# Horizontal concatenation\n",
    "df_concat_h = pd.concat([df1, df2], axis=1)\n",
    "print(df_concat_h)\n"
   ]
  },
  {
   "cell_type": "code",
   "execution_count": 7,
   "metadata": {},
   "outputs": [
    {
     "name": "stdout",
     "output_type": "stream",
     "text": [
      "  key  value1  value2\n",
      "0   a       1       4\n",
      "1   b       2       5\n"
     ]
    }
   ],
   "source": [
    "# Merging DataFrames\n",
    "\n",
    "df1 = pd.DataFrame({'key': ['a', 'b', 'c'], 'value1': [1, 2, 3]})\n",
    "df2 = pd.DataFrame({'key': ['a', 'b', 'd'], 'value2': [4, 5, 6]})\n",
    "\n",
    "df_merged = pd.merge(df1, df2, on='key')\n",
    "print(df_merged)"
   ]
  },
  {
   "cell_type": "code",
   "execution_count": 6,
   "metadata": {},
   "outputs": [
    {
     "name": "stdout",
     "output_type": "stream",
     "text": [
      "   A  B      C\n",
      "0  x  1    red\n",
      "1  x  2   blue\n",
      "2  y  3    red\n",
      "3  y  4  green\n",
      "A  C       \n",
      "x  red    B    1\n",
      "   blue   B    2\n",
      "y  red    B    3\n",
      "   green  B    4\n",
      "dtype: int64\n",
      "C    blue  green  red\n",
      "A                    \n",
      "x B   2.0    NaN  1.0\n",
      "y B   NaN    4.0  3.0\n"
     ]
    }
   ],
   "source": [
    "# Reshaping and Pivoting\n",
    "\n",
    "# stack and unstack: Reshape DataFrames using hierarchical indexing.\n",
    "# stack: Pivots data from columns to the index (rows), creating a MultiIndex with the original column labels as a level.\n",
    "# unstack: Inverse of stack, pivots data from rows (MultiIndex) back to columns.\n",
    "\n",
    "import pandas as pd\n",
    "df = pd.DataFrame({'A': ['x', 'x', 'y', 'y'],\n",
    "                'B': [1, 2, 3, 4],\n",
    "                'C': ['red', 'blue', 'red', 'green']})\n",
    "print(df)\n",
    "df_stacked = df.set_index(['A', 'C']).stack()\n",
    "print(df_stacked)\n",
    "\n",
    "df_unstacked = df_stacked.unstack('C')\n",
    "print(df_unstacked)"
   ]
  },
  {
   "cell_type": "code",
   "execution_count": 5,
   "metadata": {},
   "outputs": [
    {
     "name": "stdout",
     "output_type": "stream",
     "text": [
      "          City Month  Temperature\n",
      "0     New York   Jan           10\n",
      "1  Los Angeles   Feb           15\n",
      "2      Chicago   Mar            5\n",
      "3     New York   Apr           12\n",
      "4  Los Angeles   May           18\n",
      "Stacked DataFrame (Wide to Long):\n",
      "City         Month             \n",
      "New York     Jan    Temperature    10\n",
      "Los Angeles  Feb    Temperature    15\n",
      "Chicago      Mar    Temperature     5\n",
      "New York     Apr    Temperature    12\n",
      "Los Angeles  May    Temperature    18\n",
      "dtype: int64\n",
      "\n",
      "Unstacked DataFrame (Long to Wide):\n",
      "Month                     Apr   Feb   Jan  Mar   May\n",
      "City                                                \n",
      "Chicago     Temperature   NaN   NaN   NaN  5.0   NaN\n",
      "Los Angeles Temperature   NaN  15.0   NaN  NaN  18.0\n",
      "New York    Temperature  12.0   NaN  10.0  NaN   NaN\n"
     ]
    }
   ],
   "source": [
    "import pandas as pd\n",
    "\n",
    "data = {'City': ['New York', 'Los Angeles', 'Chicago', 'New York', 'Los Angeles'],\n",
    "        'Month': ['Jan', 'Feb', 'Mar', 'Apr', 'May'],\n",
    "        'Temperature': [10, 15, 5, 12, 18]}\n",
    "df = pd.DataFrame(data)\n",
    "\n",
    "print(df)\n",
    "\n",
    "# Stacking the DataFrame (Wide to Long)\n",
    "df_stacked = df.set_index(['City', 'Month']).stack()\n",
    "print(\"Stacked DataFrame (Wide to Long):\")\n",
    "print(df_stacked)\n",
    "\n",
    "# Unstacking the DataFrame (Long to Wide)\n",
    "df_unstacked = df_stacked.unstack('Month')\n",
    "print(\"\\nUnstacked DataFrame (Long to Wide):\")\n",
    "print(df_unstacked)"
   ]
  },
  {
   "cell_type": "markdown",
   "metadata": {},
   "source": [
    "# PLOTTING WITH PANDAS, SEABON, AND MATPLOTLIB:"
   ]
  },
  {
   "cell_type": "code",
   "execution_count": 1,
   "metadata": {},
   "outputs": [
    {
     "data": {
      "image/png": "[encoded data removed]",
      "text/plain": [
       "<Figure size 640x480 with 1 Axes>"
      ]
     },
     "metadata": {},
     "output_type": "display_data"
    }
   ],
   "source": [
    "# matplotlib basic line plot\n",
    "\n",
    "import matplotlib.pyplot as plt\n",
    "import numpy as np\n",
    "\n",
    "x = np.array([1, 2, 3, 4, 5])\n",
    "y = np.array([1, 2, 3, 4, 5])\n",
    "\n",
    "plt.plot(x, y)\n",
    "plt.show()"
   ]
  },
  {
   "cell_type": "code",
   "execution_count": 3,
   "metadata": {},
   "outputs": [
    {
     "data": {
      "text/plain": [
       "Text(0.5, 1.0, 'Line Plot')"
      ]
     },
     "execution_count": 3,
     "metadata": {},
     "output_type": "execute_result"
    },
    {
     "data": {
      "image/png": "[encoded data removed]",
      "text/plain": [
       "<Figure size 640x480 with 1 Axes>"
      ]
     },
     "metadata": {},
     "output_type": "display_data"
    }
   ],
   "source": [
    "import matplotlib.pyplot as plt\n",
    "import numpy as np\n",
    "\n",
    "# Generate some data\n",
    "x = np.linspace(0.0, 5.0, 100)\n",
    "y = np.sin(x)\n",
    "\n",
    "# Create the plot\n",
    "plt.plot(x, y)\n",
    "\n",
    "# Set labels and title\n",
    "plt.xlabel(\"X-axis\")\n",
    "plt.ylabel(\"Y-axis\")\n",
    "plt.title(\"Line Plot\")"
   ]
  },
  {
   "cell_type": "code",
   "execution_count": 4,
   "metadata": {},
   "outputs": [
    {
     "data": {
      "image/png": "[encoded data removed]",
      "text/plain": [
       "<Figure size 640x480 with 1 Axes>"
      ]
     },
     "metadata": {},
     "output_type": "display_data"
    }
   ],
   "source": [
    "# customization with matplotlib\n",
    "\n",
    "import matplotlib.pyplot as plt\n",
    "import numpy as np\n",
    "\n",
    "# Generate data\n",
    "x = np.linspace(0.0, 3.0, 100)\n",
    "y1 = np.sin(x)\n",
    "y2 = np.cos(x)\n",
    "\n",
    "# Create the plot with customization\n",
    "plt.plot(x, y1, label=\"Sine\", color=\"red\", linewidth=2)\n",
    "plt.plot(x, y2, label=\"Cosine\", color=\"blue\", linestyle=\"--\")\n",
    "\n",
    "# Add legend and title\n",
    "plt.legend()\n",
    "plt.title(\"Customized Line Plot\")\n",
    "\n",
    "# Show the plot\n",
    "plt.show()"
   ]
  },
  {
   "cell_type": "code",
   "execution_count": 5,
   "metadata": {},
   "outputs": [
    {
     "data": {
      "image/png": "[encoded data removed]",
      "text/plain": [
       "<Figure size 640x480 with 2 Axes>"
      ]
     },
     "metadata": {},
     "output_type": "display_data"
    }
   ],
   "source": [
    "# seaborn heatmap\n",
    "\n",
    "import seaborn as sns\n",
    "import matplotlib.pyplot as plt\n",
    "import numpy as np\n",
    "\n",
    "# Generate some data\n",
    "data = np.random.rand(10, 10)\n",
    "\n",
    "# Create the heatmap\n",
    "sns.heatmap(data)\n",
    "\n",
    "# Show the plot\n",
    "plt.show()\n"
   ]
  },
  {
   "cell_type": "code",
   "execution_count": 2,
   "metadata": {},
   "outputs": [
    {
     "data": {
      "text/plain": [
       "<Axes: >"
      ]
     },
     "execution_count": 2,
     "metadata": {},
     "output_type": "execute_result"
    },
    {
     "data": {
      "image/png": "[encoded data removed]",
      "text/plain": [
       "<Figure size 1100x900 with 2 Axes>"
      ]
     },
     "metadata": {},
     "output_type": "display_data"
    }
   ],
   "source": [
    "from string import ascii_letters\n",
    "import numpy as np\n",
    "import pandas as pd\n",
    "import seaborn as sns\n",
    "import matplotlib.pyplot as plt\n",
    "\n",
    "sns.set_theme(style=\"white\")\n",
    "\n",
    "# Generate a large random dataset\n",
    "rs = np.random.RandomState(33)\n",
    "d = pd.DataFrame(data=rs.normal(size=(100, 26)),\n",
    "                columns=list(ascii_letters[26:]))\n",
    "\n",
    "# Compute the correlation matrix\n",
    "corr = d.corr()\n",
    "\n",
    "# Generate a mask for the upper triangle\n",
    "mask = np.triu(np.ones_like(corr, dtype=bool))\n",
    "\n",
    "# Set up the matplotlib figure\n",
    "f, ax = plt.subplots(figsize=(11, 9))\n",
    "\n",
    "# Generate a custom diverging colormap\n",
    "cmap = sns.diverging_palette(230, 20, as_cmap=True)\n",
    "\n",
    "# Draw the heatmap with the mask and correct aspect ratio\n",
    "sns.heatmap(corr, mask=mask, cmap=cmap, vmax=.3, center=0,\n",
    "            square=True, linewidths=.5, cbar_kws={\"shrink\": .5})"
   ]
  },
  {
   "cell_type": "markdown",
   "metadata": {},
   "source": [
    "# DATA AGGREGATION AND GROUP OPERATIONS"
   ]
  },
  {
   "cell_type": "code",
   "execution_count": 16,
   "metadata": {},
   "outputs": [
    {
     "name": "stdout",
     "output_type": "stream",
     "text": [
      "  category  value\n",
      "0        A     10\n",
      "1        A     15\n",
      "2        B     20\n",
      "3        C     30\n",
      "4        A     25\n",
      "==============================\n",
      "          sum       mean\n",
      "category                \n",
      "A          50  16.666667\n",
      "B          20  20.000000\n",
      "C          30  30.000000\n"
     ]
    }
   ],
   "source": [
    "# group operations\n",
    "# Group operations involve aggregating or summarizing data based on one or more columns (group keys). \n",
    "# They are essential for extracting meaningful insights from large datasets.\n",
    "\n",
    "import pandas as pd\n",
    "\n",
    "# Sample data\n",
    "data = {'category': ['A', 'A', 'B', 'C', 'A'],\n",
    "        'value': [10, 15, 20, 30, 25]}\n",
    "df = pd.DataFrame(data)\n",
    "print(df)\n",
    "print(\"==============================\")\n",
    "\n",
    "# Group by 'category' and calculate sum and mean of 'value'\n",
    "grouped = df.groupby('category')\n",
    "result = grouped['value'].agg(['sum', 'mean'])\n",
    "print(result)"
   ]
  },
  {
   "cell_type": "code",
   "execution_count": 17,
   "metadata": {},
   "outputs": [
    {
     "name": "stdout",
     "output_type": "stream",
     "text": [
      "      name  age\n",
      "0    Alice   25\n",
      "1      Bob   30\n",
      "2  Charlie   35\n",
      "==============================\n",
      "      name  age  age_plus_10\n",
      "0    Alice   25           35\n",
      "1      Bob   30           40\n",
      "2  Charlie   35           45\n"
     ]
    }
   ],
   "source": [
    "# data transforms\n",
    "# Group transforms are similar to group operations, but they allow applying custom functions to each group separately. \n",
    "# These functions can manipulate or transform the data within each group.\n",
    "\n",
    "import pandas as pd\n",
    "\n",
    "# Sample data\n",
    "data = {'name': ['Alice', 'Bob', 'Charlie'],\n",
    "        'age': [25, 30, 35],}\n",
    "df = pd.DataFrame(data)\n",
    "print(df)\n",
    "print(\"==============================\")\n",
    "\n",
    "# Transform the data\n",
    "df['age_plus_10'] = df['age'] + 10\n",
    "\n",
    "# Print the transformed data\n",
    "print(df)"
   ]
  },
  {
   "cell_type": "code",
   "execution_count": 15,
   "metadata": {},
   "outputs": [
    {
     "name": "stdout",
     "output_type": "stream",
     "text": [
      "      name  age\n",
      "0    Alice   25\n",
      "1      Bob   30\n",
      "2  Charlie   35\n",
      "==================================\n",
      "Alice\n",
      "    name  age\n",
      "0  Alice   25\n",
      "==================================\n",
      "Bob\n",
      "  name  age\n",
      "1  Bob   30\n",
      "==================================\n",
      "Charlie\n",
      "      name  age\n",
      "2  Charlie   35\n",
      "==================================\n",
      "         sum  mean\n",
      "name              \n",
      "Alice     25  25.0\n",
      "Bob       30  30.0\n",
      "Charlie   35  35.0\n"
     ]
    }
   ],
   "source": [
    "# unwrapped groupBy\n",
    "\n",
    "# Unwrapped GroupBys break down the group-wise operations into individual steps. \n",
    "# This can be useful when you need more control over the transformation process or when working with complex operations.\n",
    "\n",
    "import pandas as pd\n",
    "\n",
    "# Sample data\n",
    "data = {'name': ['Alice', 'Bob', 'Charlie'],\n",
    "        'age': [25, 30, 35],}\n",
    "df = pd.DataFrame(data)\n",
    "print(df)\n",
    "print(\"==================================\")\n",
    "\n",
    "# Unwrap the grouped data\n",
    "# name: In each iteration, name will store the current group key, which is the value from the 'name' column used for grouping (e.g., \"Alice\", \"Bob\", etc.).\n",
    "# group: In each iteration, group will store the corresponding DataFrame that belongs to that specific group key. \n",
    "# This DataFrame contains all rows from the original df that share the same name value.\n",
    "\n",
    "grouped = df.groupby('name')\n",
    "for name, group in grouped:\n",
    "    print(name)\n",
    "    print(group)\n",
    "    print(\"==================================\")\n",
    "\n",
    "# Unwrap the grouped data\n",
    "grouped = df.groupby('name')\n",
    "result = grouped['age'].agg(['sum', 'mean'])\n",
    "print(result)\n",
    "\n"
   ]
  },
  {
   "cell_type": "code",
   "execution_count": 12,
   "metadata": {},
   "outputs": [
    {
     "name": "stdout",
     "output_type": "stream",
     "text": [
      "      name  age gender\n",
      "0    Alice   25      F\n",
      "1      Bob   30      M\n",
      "2  Charlie   35      M\n",
      "==================================\n",
      "gender      F     M\n",
      "name               \n",
      "Alice    25.0   NaN\n",
      "Bob       NaN  30.0\n",
      "Charlie   NaN  35.0\n"
     ]
    }
   ],
   "source": [
    "# pivot tables\n",
    "\n",
    "\n",
    "# Pivot tables are a powerful way to summarize and visualize data from different perspectives. \n",
    "# They arrange data in a tabular format with group keys on rows and columns, and aggregate values using functions like sum, mean, count, etc.\n",
    "\n",
    "import pandas as pd\n",
    "import numpy as np\n",
    "\n",
    "# Sample data\n",
    "data = {'name': ['Alice', 'Bob', 'Charlie'],\n",
    "        'age': [25, 30, 35],\n",
    "        'gender': ['F', 'M', 'M']}\n",
    "df = pd.DataFrame(data)\n",
    "print(df)\n",
    "print(\"==================================\")\n",
    "\n",
    "# Pivot table\n",
    "result = pd.pivot_table(df, values='age', index=['name'], columns=['gender'], aggfunc='mean')\n",
    "print(result)\n",
    "\n",
    "# NaN ( Not a Number ) values are ignored in pivot tables.\n"
   ]
  },
  {
   "cell_type": "code",
   "execution_count": 13,
   "metadata": {},
   "outputs": [
    {
     "name": "stdout",
     "output_type": "stream",
     "text": [
      "      name  age gender\n",
      "0    Alice   25      F\n",
      "1      Bob   30      M\n",
      "2  Charlie   35      M\n",
      "==================================\n",
      "gender   F  M\n",
      "name         \n",
      "Alice    1  0\n",
      "Bob      0  1\n",
      "Charlie  0  1\n"
     ]
    }
   ],
   "source": [
    "# cross-tabulation\n",
    "\n",
    "# Cross-tabulation is a technique for summarizing data based on two or more variables.\n",
    "# Cross-tabulations are similar to pivot tables but provide a more general way to create contingency tables. \n",
    "# They show the frequency of co-occurrences between two or more categorical variables.\n",
    "\n",
    "import pandas as pd\n",
    "import numpy as np\n",
    "\n",
    "# Sample data\n",
    "data = {'name': ['Alice', 'Bob', 'Charlie'],\n",
    "        'age': [25, 30, 35],\n",
    "        'gender': ['F', 'M', 'M']}\n",
    "df = pd.DataFrame(data)\n",
    "print(df)\n",
    "print(\"==================================\")\n",
    "\n",
    "# Cross-tabulation\n",
    "result = pd.crosstab(df['name'], df['gender'])\n",
    "print(result)"
   ]
  }
 ],
 "metadata": {
  "kernelspec": {
   "display_name": "Python 3",
   "language": "python",
   "name": "python3"
  },
  "language_info": {
   "codemirror_mode": {
    "name": "ipython",
    "version": 3
   },
   "file_extension": ".py",
   "mimetype": "text/x-python",
   "name": "python",
   "nbconvert_exporter": "python",
   "pygments_lexer": "ipython3",
   "version": "3.12.4"
  }
 },
 "nbformat": 4,
 "nbformat_minor": 2
}
